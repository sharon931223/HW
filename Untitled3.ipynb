{
  "nbformat": 4,
  "nbformat_minor": 0,
  "metadata": {
    "colab": {
      "provenance": []
    },
    "kernelspec": {
      "name": "python3",
      "display_name": "Python 3"
    },
    "language_info": {
      "name": "python"
    }
  },
  "cells": [
    {
      "cell_type": "code",
      "execution_count": 8,
      "metadata": {
        "id": "YRAm6OHYe7wj",
        "colab": {
          "base_uri": "https://localhost:8080/"
        },
        "outputId": "23a6c38a-b395-4b42-9548-ccc82b2ec5a1"
      },
      "outputs": [
        {
          "output_type": "stream",
          "name": "stdout",
          "text": [
            "請輸入一個數字: 3\n",
            "1*1=1\n",
            "1*2=2\n",
            "1*3=3\n",
            "2*1=2\n",
            "2*2=4\n",
            "2*3=6\n",
            "3*1=3\n",
            "3*2=6\n",
            "3*3=9\n"
          ]
        }
      ],
      "source": [
        "a = input(\"請輸入一個數字: \")\n",
        "b = int(a)\n",
        "for i in range(1,b+1):\n",
        "  for j in range(1,b+1):\n",
        "    product= i*j\n",
        "    print(f\"{i}*{j}={product}\")"
      ]
    },
    {
      "cell_type": "code",
      "source": [
        "import random\n",
        "target_number = random.randint(1, 100)\n",
        "\n",
        "print(\"歡迎參加猜數字遊戲！\")\n",
        "ans = X\n",
        "while ans == X:\n",
        "  a = int(input(\"請輸入一個數字: \"))\n",
        "  if a > target_number:\n",
        "    print(\"太高了\")\n",
        "  elif a < target_number:\n",
        "    print(\"太低了\")\n",
        "  elif a == target_number:\n",
        "    print(f\"恭喜你猜對了！答案就是：{target_number}\")\n",
        "    break\n",
        "print(\"遊戲結束。\")"
      ],
      "metadata": {
        "colab": {
          "base_uri": "https://localhost:8080/"
        },
        "id": "turHtgNVDjbn",
        "outputId": "7283ae67-0ca3-4cc9-d87b-23fc18ed5a8c"
      },
      "execution_count": 15,
      "outputs": [
        {
          "output_type": "stream",
          "name": "stdout",
          "text": [
            "歡迎參加猜數字遊戲！\n",
            "請輸入一個數字: 30\n",
            "太低了\n",
            "請輸入一個數字: 50\n",
            "太高了\n",
            "請輸入一個數字: 40\n",
            "太高了\n",
            "請輸入一個數字: 35\n",
            "太低了\n",
            "請輸入一個數字: 37\n",
            "恭喜你猜對了！答案就是：37\n",
            "遊戲結束。\n"
          ]
        }
      ]
    }
  ]
}