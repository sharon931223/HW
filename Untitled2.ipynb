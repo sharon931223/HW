{
  "nbformat": 4,
  "nbformat_minor": 0,
  "metadata": {
    "colab": {
      "provenance": [],
      "toc_visible": true
    },
    "kernelspec": {
      "name": "python3",
      "display_name": "Python 3"
    },
    "language_info": {
      "name": "python"
    }
  },
  "cells": [
    {
      "cell_type": "code",
      "execution_count": 1,
      "metadata": {
        "colab": {
          "base_uri": "https://localhost:8080/"
        },
        "id": "V0r4g3cz9Uj8",
        "outputId": "8b7a1379-b57f-4ab4-9cf0-cc6ae0871a9c"
      },
      "outputs": [
        {
          "output_type": "stream",
          "name": "stdout",
          "text": [
            "<class 'str'>\n",
            "<class 'str'>\n"
          ]
        }
      ],
      "source": [
        "a = \"程芳萱\"\n",
        "b = \"B1205030\"\n",
        "\n",
        "print(type(a))\n",
        "print(type(b))"
      ]
    },
    {
      "cell_type": "code",
      "source": [
        "my_list = [\"程芳萱\",\"B1205030\"]\n",
        "print(my_list)"
      ],
      "metadata": {
        "colab": {
          "base_uri": "https://localhost:8080/"
        },
        "id": "M-LZI6bo9bXd",
        "outputId": "3e1fac9c-2fa0-4ac2-e6bf-48223c7a29c8"
      },
      "execution_count": 2,
      "outputs": [
        {
          "output_type": "stream",
          "name": "stdout",
          "text": [
            "['程芳萱', 'B1205030']\n"
          ]
        }
      ]
    }
  ]
}